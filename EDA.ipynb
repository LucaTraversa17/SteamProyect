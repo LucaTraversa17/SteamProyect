{
 "cells": [
  {
   "cell_type": "code",
   "execution_count": 58,
   "metadata": {},
   "outputs": [],
   "source": [
    "import pandas as pd\n",
    "import gzip\n",
    "import json\n",
    "from sklearn.preprocessing import MinMaxScaler\n",
    "import matplotlib.pyplot as plt\n",
    "import seaborn as sns"
   ]
  },
  {
   "cell_type": "code",
   "execution_count": 59,
   "metadata": {},
   "outputs": [
    {
     "name": "stderr",
     "output_type": "stream",
     "text": [
      "<>:1: SyntaxWarning: invalid escape sequence '\\s'\n",
      "<>:1: SyntaxWarning: invalid escape sequence '\\s'\n",
      "C:\\Users\\lucat\\AppData\\Local\\Temp\\ipykernel_4412\\11900938.py:1: SyntaxWarning: invalid escape sequence '\\s'\n",
      "  archivo_comprimido = 'Json_comprimidos\\steam_games.json.gz'\n"
     ]
    }
   ],
   "source": [
    "archivo_comprimido = 'Json_comprimidos\\steam_games.json.gz'\n",
    "# Descomprimir y leer el primer archivo con gzip\n",
    "with gzip.open(archivo_comprimido, 'rt', encoding='utf-8') as f:\n",
    "    contenido_json = []\n",
    "    for linea in f:\n",
    "        contenido_json.append(json.loads(linea.strip()))\n",
    "\n",
    "df_juegos = pd.DataFrame(contenido_json)\n",
    "df_juegos.tail(3)\n",
    "\n",
    "df_items = pd.read_json('dataframe_items_desanidados.json')\n"
   ]
  },
  {
   "cell_type": "code",
   "execution_count": 60,
   "metadata": {},
   "outputs": [
    {
     "data": {
      "text/plain": [
       "genres      91593\n",
       "app_name    88312\n",
       "tags        88473\n",
       "specs       88980\n",
       "price       89687\n",
       "item_id     88312\n",
       "dtype: int64"
      ]
     },
     "execution_count": 60,
     "metadata": {},
     "output_type": "execute_result"
    }
   ],
   "source": [
    "#Eliminamos las columnas que no nos sirven. \n",
    "# Para el subset hemos decidido quedarnos con los juegos mas jugados en playtime_forever. Son los juegos que los usuarios han preferido a o largo del tiempo. \n",
    "\n",
    "df_juegos = df_juegos.drop(columns=['publisher','title','url','reviews_url','early_access','developer','release_date'])\n",
    "#Cambiamos el nombre de la columna para luego hacer JOIN\n",
    "df_juegos.rename(columns={'id':'item_id'}, inplace=True)\n",
    "df_juegos.isna().sum()"
   ]
  },
  {
   "cell_type": "code",
   "execution_count": 61,
   "metadata": {},
   "outputs": [
    {
     "data": {
      "text/plain": [
       "genres      3282\n",
       "app_name       1\n",
       "tags         162\n",
       "specs        669\n",
       "price       1377\n",
       "item_id        0\n",
       "dtype: int64"
      ]
     },
     "execution_count": 61,
     "metadata": {},
     "output_type": "execute_result"
    }
   ],
   "source": [
    "#Eliminamos todos los que tengan nulo en el item_id porque no nos sirven para el join ni tampooco para recomendaciones. \n",
    "df_juegos = df_juegos.dropna(subset='item_id')\n",
    "#Lo pasamos a tipo entero para poder joinear. \n",
    "df_juegos['item_id'] = df_juegos['item_id'].astype(int)\n",
    "df_juegos.isna().sum()"
   ]
  },
  {
   "cell_type": "code",
   "execution_count": 62,
   "metadata": {},
   "outputs": [
    {
     "data": {
      "text/plain": [
       "genres      3282\n",
       "app_name       1\n",
       "tags         162\n",
       "specs        669\n",
       "price       1377\n",
       "item_id        0\n",
       "dtype: int64"
      ]
     },
     "execution_count": 62,
     "metadata": {},
     "output_type": "execute_result"
    }
   ],
   "source": [
    "#Del df items nos vamos a quedar con los juegos mas jugados unicamente. \n",
    "# Agrupar por 'item_id' y sumar 'playtime_forever'\n",
    "df_items = df_items[df_items['playtime_forever'].notnull()]  # Eliminar filas con valores nulos en 'playtime_forever'\n",
    "df_mas_jugados = df_items.groupby('item_id')['playtime_forever'].sum().reset_index()\n",
    "#Nos quedamos con los que tengan mas de 0 en jugado acumulado\n",
    "df_mas_jugados = df_mas_jugados[df_mas_jugados['playtime_forever']>0]\n",
    "# Ordenar el DataFrame por 'playtime_forever' en orden descendente\n",
    "df_mas_jugados = df_mas_jugados.sort_values(by='playtime_forever', ascending=False)\n",
    "df_juegos.isna().sum()"
   ]
  },
  {
   "cell_type": "code",
   "execution_count": 63,
   "metadata": {},
   "outputs": [
    {
     "data": {
      "text/html": [
       "<div>\n",
       "<style scoped>\n",
       "    .dataframe tbody tr th:only-of-type {\n",
       "        vertical-align: middle;\n",
       "    }\n",
       "\n",
       "    .dataframe tbody tr th {\n",
       "        vertical-align: top;\n",
       "    }\n",
       "\n",
       "    .dataframe thead th {\n",
       "        text-align: right;\n",
       "    }\n",
       "</style>\n",
       "<table border=\"1\" class=\"dataframe\">\n",
       "  <thead>\n",
       "    <tr style=\"text-align: right;\">\n",
       "      <th></th>\n",
       "      <th>item_id</th>\n",
       "      <th>playtime_forever</th>\n",
       "    </tr>\n",
       "  </thead>\n",
       "  <tbody>\n",
       "    <tr>\n",
       "      <th>23</th>\n",
       "      <td>730.0</td>\n",
       "      <td>785184267.0</td>\n",
       "    </tr>\n",
       "    <tr>\n",
       "      <th>163</th>\n",
       "      <td>4000.0</td>\n",
       "      <td>448366616.0</td>\n",
       "    </tr>\n",
       "    <tr>\n",
       "      <th>1673</th>\n",
       "      <td>105600.0</td>\n",
       "      <td>154974541.0</td>\n",
       "    </tr>\n",
       "    <tr>\n",
       "      <th>1543</th>\n",
       "      <td>72850.0</td>\n",
       "      <td>136678626.0</td>\n",
       "    </tr>\n",
       "    <tr>\n",
       "      <th>2403</th>\n",
       "      <td>230410.0</td>\n",
       "      <td>124027703.0</td>\n",
       "    </tr>\n",
       "    <tr>\n",
       "      <th>...</th>\n",
       "      <td>...</td>\n",
       "      <td>...</td>\n",
       "    </tr>\n",
       "    <tr>\n",
       "      <th>2101</th>\n",
       "      <td>215374.0</td>\n",
       "      <td>1.0</td>\n",
       "    </tr>\n",
       "    <tr>\n",
       "      <th>10141</th>\n",
       "      <td>472770.0</td>\n",
       "      <td>1.0</td>\n",
       "    </tr>\n",
       "    <tr>\n",
       "      <th>8114</th>\n",
       "      <td>402475.0</td>\n",
       "      <td>1.0</td>\n",
       "    </tr>\n",
       "    <tr>\n",
       "      <th>1855</th>\n",
       "      <td>205180.0</td>\n",
       "      <td>1.0</td>\n",
       "    </tr>\n",
       "    <tr>\n",
       "      <th>8118</th>\n",
       "      <td>402479.0</td>\n",
       "      <td>1.0</td>\n",
       "    </tr>\n",
       "  </tbody>\n",
       "</table>\n",
       "<p>10050 rows × 2 columns</p>\n",
       "</div>"
      ],
      "text/plain": [
       "        item_id  playtime_forever\n",
       "23        730.0       785184267.0\n",
       "163      4000.0       448366616.0\n",
       "1673   105600.0       154974541.0\n",
       "1543    72850.0       136678626.0\n",
       "2403   230410.0       124027703.0\n",
       "...         ...               ...\n",
       "2101   215374.0               1.0\n",
       "10141  472770.0               1.0\n",
       "8114   402475.0               1.0\n",
       "1855   205180.0               1.0\n",
       "8118   402479.0               1.0\n",
       "\n",
       "[10050 rows x 2 columns]"
      ]
     },
     "execution_count": 63,
     "metadata": {},
     "output_type": "execute_result"
    }
   ],
   "source": [
    "df_mas_jugados"
   ]
  },
  {
   "cell_type": "code",
   "execution_count": 64,
   "metadata": {},
   "outputs": [
    {
     "data": {
      "image/png": "[encoded data removed]",
      "text/plain": [
       "<Figure size 1000x600 with 1 Axes>"
      ]
     },
     "metadata": {},
     "output_type": "display_data"
    }
   ],
   "source": [
    "# Crear un gráfico de la distribución de playtime_forever\n",
    "plt.figure(figsize=(10, 6))\n",
    "sns.histplot(df_mas_jugados['playtime_forever'], bins=50, kde=True)\n",
    "plt.title('Distribución de Playtime Forever')\n",
    "plt.xlabel('Playtime Forever')\n",
    "plt.ylabel('Frecuencia')\n",
    "plt.show()"
   ]
  },
  {
   "cell_type": "markdown",
   "metadata": {},
   "source": [
    "El gráfico que estamos viendo sugiere que la mayoría de los valores de playtime_forever son muy pequeños en comparación con algunos valores extremadamente grandes, lo que causa una escala no uniforme. Esto es típico de una distribución sesgada con valores atípicos (outliers). Vamos a modificar un poco los datos para volver a graficarlo. "
   ]
  },
  {
   "cell_type": "code",
   "execution_count": 65,
   "metadata": {},
   "outputs": [
    {
     "data": {
      "image/png": "[encoded data removed]",
      "text/plain": [
       "<Figure size 1000x600 with 1 Axes>"
      ]
     },
     "metadata": {},
     "output_type": "display_data"
    }
   ],
   "source": [
    "# Eliminar valores atípicos usando el percentil 95\n",
    "percentil_95 = df_mas_jugados['playtime_forever'].quantile(0.95)\n",
    "df_sin_outliers = df_mas_jugados[df_mas_jugados['playtime_forever'] <= percentil_95]\n",
    "# Crear un gráfico de la distribución de playtime_forever (sin valores atípicos)\n",
    "plt.figure(figsize=(10, 6))\n",
    "sns.histplot(df_sin_outliers['playtime_forever'], bins=50, kde=True)\n",
    "plt.title('Distribución de Playtime Forever (sin valores atípicos)')\n",
    "plt.xlabel('Playtime Forever')\n",
    "plt.ylabel('Frecuencia')\n",
    "plt.show()"
   ]
  },
  {
   "cell_type": "markdown",
   "metadata": {},
   "source": [
    "En este gráfico podemos observar que la gran mayoría de los juegos tienen muy poco tiempo de playtime histórico, pudiendo inferir que no tienen éxito con el usuario. Por lo tanto vamos a proceder a eliminarlos debido a que debemos reducir el Dataset para que nuestra funcion de recomendación pueda funcionar. "
   ]
  },
  {
   "cell_type": "code",
   "execution_count": 66,
   "metadata": {},
   "outputs": [
    {
     "data": {
      "text/plain": [
       "(7057, 2)"
      ]
     },
     "execution_count": 66,
     "metadata": {},
     "output_type": "execute_result"
    }
   ],
   "source": [
    "#Al menos que tenga más de 1000 en acumulado de juego entre todos los usuarios. \n",
    "df_mas_jugados = df_mas_jugados[df_mas_jugados['playtime_forever']>1000]\n",
    "#Sabemos que nuestra función en render no puede procesar más de 4500 registros aproximadamente. Por eso debemos chequear la longitud de nuestro dataset\n",
    "df_mas_jugados.shape"
   ]
  },
  {
   "cell_type": "code",
   "execution_count": 67,
   "metadata": {},
   "outputs": [
    {
     "data": {
      "text/plain": [
       "(4463, 2)"
      ]
     },
     "execution_count": 67,
     "metadata": {},
     "output_type": "execute_result"
    }
   ],
   "source": [
    "#7000 sigue siendo muy alto, debemos reducirlo aún más \n",
    "df = df_mas_jugados[df_mas_jugados['playtime_forever']>7000]\n",
    "df.shape"
   ]
  },
  {
   "cell_type": "code",
   "execution_count": 68,
   "metadata": {},
   "outputs": [],
   "source": [
    "#Nos quedamos con 4463 registros, una cantidad manejable para nuestra función. \n",
    "df_juegos = pd.merge(df_juegos, df_mas_jugados,on='item_id',how='inner')"
   ]
  },
  {
   "cell_type": "code",
   "execution_count": 69,
   "metadata": {},
   "outputs": [],
   "source": [
    "#Desanidamos las columnas con la información del juego. \n",
    "df_juegos['genres'] = df_juegos['genres'].apply(lambda x: ', '.join(x) if isinstance(x, list) else '')\n",
    "df_juegos['tags'] = df_juegos['tags'].apply(lambda x: ', '.join(x) if isinstance(x, list) else '')\n",
    "df_juegos['specs'] = df_juegos['specs'].apply(lambda x: ', '.join(x) if isinstance(x, list) else '')"
   ]
  },
  {
   "cell_type": "code",
   "execution_count": 70,
   "metadata": {},
   "outputs": [
    {
     "data": {
      "text/html": [
       "<div>\n",
       "<style scoped>\n",
       "    .dataframe tbody tr th:only-of-type {\n",
       "        vertical-align: middle;\n",
       "    }\n",
       "\n",
       "    .dataframe tbody tr th {\n",
       "        vertical-align: top;\n",
       "    }\n",
       "\n",
       "    .dataframe thead th {\n",
       "        text-align: right;\n",
       "    }\n",
       "</style>\n",
       "<table border=\"1\" class=\"dataframe\">\n",
       "  <thead>\n",
       "    <tr style=\"text-align: right;\">\n",
       "      <th></th>\n",
       "      <th>genres</th>\n",
       "      <th>app_name</th>\n",
       "      <th>tags</th>\n",
       "      <th>specs</th>\n",
       "      <th>price</th>\n",
       "      <th>item_id</th>\n",
       "      <th>playtime_forever</th>\n",
       "      <th>puntaje</th>\n",
       "    </tr>\n",
       "  </thead>\n",
       "  <tbody>\n",
       "    <tr>\n",
       "      <th>0</th>\n",
       "      <td>Action, Indie, Racing</td>\n",
       "      <td>Carmageddon Max Pack</td>\n",
       "      <td>Racing, Action, Classic, Indie, Gore, 1990's, ...</td>\n",
       "      <td>Single-player, Multi-player, Steam Trading Cards</td>\n",
       "      <td>9.99</td>\n",
       "      <td>282010</td>\n",
       "      <td>9319.0</td>\n",
       "      <td>0.000011</td>\n",
       "    </tr>\n",
       "    <tr>\n",
       "      <th>1</th>\n",
       "      <td>Action</td>\n",
       "      <td>Half-Life</td>\n",
       "      <td>FPS, Classic, Action, Sci-fi, Singleplayer, Sh...</td>\n",
       "      <td>Single-player, Multi-player, Valve Anti-Cheat ...</td>\n",
       "      <td>9.99</td>\n",
       "      <td>70</td>\n",
       "      <td>2682852.0</td>\n",
       "      <td>0.003416</td>\n",
       "    </tr>\n",
       "    <tr>\n",
       "      <th>2</th>\n",
       "      <td>Strategy</td>\n",
       "      <td>Disciples II: Gallean's Return</td>\n",
       "      <td>Turn-Based Strategy, Strategy, Classic, Atmosp...</td>\n",
       "      <td>Single-player, Multi-player, Co-op</td>\n",
       "      <td>6.99</td>\n",
       "      <td>1640</td>\n",
       "      <td>27397.0</td>\n",
       "      <td>0.000034</td>\n",
       "    </tr>\n",
       "    <tr>\n",
       "      <th>3</th>\n",
       "      <td>Strategy</td>\n",
       "      <td>Disciples II: Rise of the Elves</td>\n",
       "      <td>Strategy, Turn-Based Strategy, Fantasy, Turn-B...</td>\n",
       "      <td>Single-player, Multi-player, Co-op</td>\n",
       "      <td>6.99</td>\n",
       "      <td>1630</td>\n",
       "      <td>21111.0</td>\n",
       "      <td>0.000026</td>\n",
       "    </tr>\n",
       "    <tr>\n",
       "      <th>4</th>\n",
       "      <td>Action, Indie, RPG</td>\n",
       "      <td>The Ship: Murder Party</td>\n",
       "      <td>Multiplayer, Indie, Action, First-Person, Stea...</td>\n",
       "      <td>Single-player, Multi-player, Steam Trading Car...</td>\n",
       "      <td>9.99</td>\n",
       "      <td>2400</td>\n",
       "      <td>1048156.0</td>\n",
       "      <td>0.001334</td>\n",
       "    </tr>\n",
       "    <tr>\n",
       "      <th>...</th>\n",
       "      <td>...</td>\n",
       "      <td>...</td>\n",
       "      <td>...</td>\n",
       "      <td>...</td>\n",
       "      <td>...</td>\n",
       "      <td>...</td>\n",
       "      <td>...</td>\n",
       "      <td>...</td>\n",
       "    </tr>\n",
       "    <tr>\n",
       "      <th>6119</th>\n",
       "      <td>Action, Adventure</td>\n",
       "      <td>Mafia</td>\n",
       "      <td>Action, Adventure, Violent, Story Rich, Classi...</td>\n",
       "      <td>Single-player</td>\n",
       "      <td>14.99</td>\n",
       "      <td>40990</td>\n",
       "      <td>45524.0</td>\n",
       "      <td>0.000057</td>\n",
       "    </tr>\n",
       "    <tr>\n",
       "      <th>6120</th>\n",
       "      <td>Action</td>\n",
       "      <td>Day of Defeat</td>\n",
       "      <td>FPS, World War II, Multiplayer, Action, Shoote...</td>\n",
       "      <td>Multi-player, Valve Anti-Cheat enabled</td>\n",
       "      <td>4.99</td>\n",
       "      <td>30</td>\n",
       "      <td>758991.0</td>\n",
       "      <td>0.000965</td>\n",
       "    </tr>\n",
       "    <tr>\n",
       "      <th>6121</th>\n",
       "      <td>Strategy, RPG, Indie</td>\n",
       "      <td>Geneforge 2</td>\n",
       "      <td>RPG, Indie, Strategy, Turn-Based Combat, Isome...</td>\n",
       "      <td>Single-player</td>\n",
       "      <td>19.99</td>\n",
       "      <td>200980</td>\n",
       "      <td>3393.0</td>\n",
       "      <td>0.000003</td>\n",
       "    </tr>\n",
       "    <tr>\n",
       "      <th>6122</th>\n",
       "      <td>Action</td>\n",
       "      <td>Unreal Tournament 2004: Editor's Choice Edition</td>\n",
       "      <td>FPS, Arena Shooter, Action, Classic, Multiplay...</td>\n",
       "      <td>Single-player, Multi-player, Steam Trading Cards</td>\n",
       "      <td>14.99</td>\n",
       "      <td>13230</td>\n",
       "      <td>349119.0</td>\n",
       "      <td>0.000443</td>\n",
       "    </tr>\n",
       "    <tr>\n",
       "      <th>6123</th>\n",
       "      <td>Action</td>\n",
       "      <td>Counter-Strike: Condition Zero</td>\n",
       "      <td>Action, FPS, Shooter, Multiplayer, Singleplaye...</td>\n",
       "      <td>Single-player, Multi-player, Valve Anti-Cheat ...</td>\n",
       "      <td>9.99</td>\n",
       "      <td>80</td>\n",
       "      <td>2503938.0</td>\n",
       "      <td>0.003188</td>\n",
       "    </tr>\n",
       "  </tbody>\n",
       "</table>\n",
       "<p>6124 rows × 8 columns</p>\n",
       "</div>"
      ],
      "text/plain": [
       "                     genres                                         app_name  \\\n",
       "0     Action, Indie, Racing                             Carmageddon Max Pack   \n",
       "1                    Action                                        Half-Life   \n",
       "2                  Strategy                   Disciples II: Gallean's Return   \n",
       "3                  Strategy                  Disciples II: Rise of the Elves   \n",
       "4        Action, Indie, RPG                           The Ship: Murder Party   \n",
       "...                     ...                                              ...   \n",
       "6119      Action, Adventure                                            Mafia   \n",
       "6120                 Action                                    Day of Defeat   \n",
       "6121   Strategy, RPG, Indie                                      Geneforge 2   \n",
       "6122                 Action  Unreal Tournament 2004: Editor's Choice Edition   \n",
       "6123                 Action                   Counter-Strike: Condition Zero   \n",
       "\n",
       "                                                   tags  \\\n",
       "0     Racing, Action, Classic, Indie, Gore, 1990's, ...   \n",
       "1     FPS, Classic, Action, Sci-fi, Singleplayer, Sh...   \n",
       "2     Turn-Based Strategy, Strategy, Classic, Atmosp...   \n",
       "3     Strategy, Turn-Based Strategy, Fantasy, Turn-B...   \n",
       "4     Multiplayer, Indie, Action, First-Person, Stea...   \n",
       "...                                                 ...   \n",
       "6119  Action, Adventure, Violent, Story Rich, Classi...   \n",
       "6120  FPS, World War II, Multiplayer, Action, Shoote...   \n",
       "6121  RPG, Indie, Strategy, Turn-Based Combat, Isome...   \n",
       "6122  FPS, Arena Shooter, Action, Classic, Multiplay...   \n",
       "6123  Action, FPS, Shooter, Multiplayer, Singleplaye...   \n",
       "\n",
       "                                                  specs  price  item_id  \\\n",
       "0      Single-player, Multi-player, Steam Trading Cards   9.99   282010   \n",
       "1     Single-player, Multi-player, Valve Anti-Cheat ...   9.99       70   \n",
       "2                    Single-player, Multi-player, Co-op   6.99     1640   \n",
       "3                    Single-player, Multi-player, Co-op   6.99     1630   \n",
       "4     Single-player, Multi-player, Steam Trading Car...   9.99     2400   \n",
       "...                                                 ...    ...      ...   \n",
       "6119                                      Single-player  14.99    40990   \n",
       "6120             Multi-player, Valve Anti-Cheat enabled   4.99       30   \n",
       "6121                                      Single-player  19.99   200980   \n",
       "6122   Single-player, Multi-player, Steam Trading Cards  14.99    13230   \n",
       "6123  Single-player, Multi-player, Valve Anti-Cheat ...   9.99       80   \n",
       "\n",
       "      playtime_forever   puntaje  \n",
       "0               9319.0  0.000011  \n",
       "1            2682852.0  0.003416  \n",
       "2              27397.0  0.000034  \n",
       "3              21111.0  0.000026  \n",
       "4            1048156.0  0.001334  \n",
       "...                ...       ...  \n",
       "6119           45524.0  0.000057  \n",
       "6120          758991.0  0.000965  \n",
       "6121            3393.0  0.000003  \n",
       "6122          349119.0  0.000443  \n",
       "6123         2503938.0  0.003188  \n",
       "\n",
       "[6124 rows x 8 columns]"
      ]
     },
     "execution_count": 70,
     "metadata": {},
     "output_type": "execute_result"
    }
   ],
   "source": [
    "#Escalamos el playtime_forever para ver si luego necesitamos usarlo como filtro de orden.\n",
    "scaler = MinMaxScaler()\n",
    "\n",
    "# Ajustar y transformar la columna 'playtime_forever'\n",
    "df_juegos['puntaje'] = scaler.fit_transform(df_juegos[['playtime_forever']])\n",
    "df_juegos"
   ]
  },
  {
   "cell_type": "code",
   "execution_count": 71,
   "metadata": {},
   "outputs": [],
   "source": [
    "df = df_juegos\n",
    "# Concatenamos las especificaciones de los juegos para poder utilizarlo en la similitud del coseno. \n",
    "df['combined_features'] = df['genres'] + ' ' + df['tags'] + ' ' + df['specs']"
   ]
  },
  {
   "cell_type": "code",
   "execution_count": 72,
   "metadata": {},
   "outputs": [],
   "source": [
    "#Eliminamos las columnas que no nos sirven más\n",
    "df = df.drop(columns= ['tags','specs','genres','price','playtime_forever'])"
   ]
  },
  {
   "cell_type": "code",
   "execution_count": 73,
   "metadata": {},
   "outputs": [],
   "source": [
    "df.to_parquet('df_consulta_final.parquet')"
   ]
  }
 ],
 "metadata": {
  "kernelspec": {
   "display_name": "Python 3",
   "language": "python",
   "name": "python3"
  },
  "language_info": {
   "codemirror_mode": {
    "name": "ipython",
    "version": 3
   },
   "file_extension": ".py",
   "mimetype": "text/x-python",
   "name": "python",
   "nbconvert_exporter": "python",
   "pygments_lexer": "ipython3",
   "version": "3.12.0"
  }
 },
 "nbformat": 4,
 "nbformat_minor": 2
}
